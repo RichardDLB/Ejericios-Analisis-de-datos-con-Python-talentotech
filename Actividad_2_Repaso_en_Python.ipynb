{
  "nbformat": 4,
  "nbformat_minor": 0,
  "metadata": {
    "colab": {
      "provenance": [],
      "authorship_tag": "ABX9TyPuJhTWA7M/yorff5dA7xdc",
      "include_colab_link": true
    },
    "kernelspec": {
      "name": "python3",
      "display_name": "Python 3"
    },
    "language_info": {
      "name": "python"
    }
  },
  "cells": [
    {
      "cell_type": "markdown",
      "metadata": {
        "id": "view-in-github",
        "colab_type": "text"
      },
      "source": [
        "<a href=\"https://colab.research.google.com/github/RichardDLB/Ejericios-Analisis-de-datos-con-Python-talentotech/blob/main/Actividad_2_Repaso_en_Python.ipynb\" target=\"_parent\"><img src=\"https://colab.research.google.com/assets/colab-badge.svg\" alt=\"Open In Colab\"/></a>"
      ]
    },
    {
      "cell_type": "markdown",
      "source": [
        "# 1. Propiedades de Tipos de Datos\n",
        "\n",
        "Repasemos cuáles son los tipos de datos nativos en Python más utilizados.\n",
        "\n",
        "# Tipos de Datos Simples\n",
        "\n",
        "*  int: Números enteros. Ejemplo: x = 5\n",
        "*  float: Números de punto flotante. Ejemplo: y = 3.14\n",
        "*  str: Cadenas de texto. Ejemplo: nombre = \"Alice\"\n",
        "*  bool: Valores booleanos (True/False).\n",
        "\n",
        "# Tipos de Datos Complejos\n",
        "\n",
        "\n",
        "*  list: Colección ordenada y mutable. Ejemplo: lista = [1, 2, 3]\n",
        "*  tuple: Colección ordenada e inmutable. Ejemplo: tupla = (1, 2, 3)\n",
        "*  dict: Colección de pares clave-valor. Ejemplo: diccionario = {\"clave1\": \"valor1\", \"clave2\": \"valor2\"}\n",
        "*  set: Colección desordenada de elementos únicos. Ejemplo: {1, 2, 3}\n",
        "*  frozenset: Colección desordenada de elementos únicos e inmutable. Ejemplo: frozenset({1, 2, 3})\n",
        "\n",
        "# Ejercicios\n",
        "Crear una lista con varios tipos de datos y acceder a sus elementos.\n",
        "Crear un diccionario y acceder a sus valores por clave."
      ],
      "metadata": {
        "id": "4fHdDAdD7xja"
      }
    },
    {
      "cell_type": "code",
      "source": [
        "# Ejercicio de lista\n",
        "mi_lista = [1, \"dos\", 3,14, True]\n",
        "print(\"Está es mi lista \",mi_lista)\n",
        "print(\"Esto es un dato en mi lista \",mi_lista[0])"
      ],
      "metadata": {
        "colab": {
          "base_uri": "https://localhost:8080/"
        },
        "id": "WoutbnGE9OSj",
        "outputId": "2c7a7d20-4ab1-4788-b898-dc00aed8fc0a"
      },
      "execution_count": 6,
      "outputs": [
        {
          "output_type": "stream",
          "name": "stdout",
          "text": [
            "Está es mi lista  [1, 'dos', 3, 14, True]\n",
            "Esto es un dato en mi lista  1\n"
          ]
        }
      ]
    },
    {
      "cell_type": "code",
      "source": [
        "# Ejercicio de diccionario\n",
        "mi_diccionario = {\"Nombre\": \"Richard\", \"Apellido\": \"Lopez\", \"Edad\": \"37\"}\n",
        "print(\"Esté es mi diccionario :\", mi_diccionario)\n",
        "print(\"Estó es un dato clave valor en mi diccionario :\",  \"Nombre\", mi_diccionario[\"Nombre\"])"
      ],
      "metadata": {
        "colab": {
          "base_uri": "https://localhost:8080/"
        },
        "id": "nJScxLux-EvB",
        "outputId": "145367d6-408e-49bd-d956-248fe7863f5a"
      },
      "execution_count": 11,
      "outputs": [
        {
          "output_type": "stream",
          "name": "stdout",
          "text": [
            "Esté es mi diccionario : {'Nombre': 'Richard', 'Apellido': 'Lopez', 'Edad': '37'}\n",
            "Estó es un dato clave valor en mi diccionario : Nombre Richard\n"
          ]
        }
      ]
    }
  ]
}