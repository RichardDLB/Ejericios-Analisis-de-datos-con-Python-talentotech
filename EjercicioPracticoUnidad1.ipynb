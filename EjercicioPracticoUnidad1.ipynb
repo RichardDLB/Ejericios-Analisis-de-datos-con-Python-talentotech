{
  "nbformat": 4,
  "nbformat_minor": 0,
  "metadata": {
    "colab": {
      "provenance": [],
      "authorship_tag": "ABX9TyNZBHJQ+MabsO4Fc36jvpPE",
      "include_colab_link": true
    },
    "kernelspec": {
      "name": "python3",
      "display_name": "Python 3"
    },
    "language_info": {
      "name": "python"
    }
  },
  "cells": [
    {
      "cell_type": "markdown",
      "metadata": {
        "id": "view-in-github",
        "colab_type": "text"
      },
      "source": [
        "<a href=\"https://colab.research.google.com/github/RichardDLB/Ejericios-Analisis-de-datos-con-Python-talentotech/blob/main/EjercicioPracticoUnidad1.ipynb\" target=\"_parent\"><img src=\"https://colab.research.google.com/assets/colab-badge.svg\" alt=\"Open In Colab\"/></a>"
      ]
    },
    {
      "cell_type": "markdown",
      "source": [
        "# ⌨ Richard Lopez 🪲\n",
        "\n",
        "Hola soy **Licenciado en Comunicación y Periodismo** y actualmente curso la **Tecnicatura Superior en Desarroll de Software** en el IFTS 18 en Buenos Aires, Argentina.\n",
        "\n",
        "También he realizado otros trayectos formativos como :\n",
        "\n",
        "\n",
        "*  ArgentinaPrograma\n",
        "*  YoPogramo\n",
        "*  CodoACodo\n",
        "*  Trayecto como Programados Java en el SMATA Buenos Aires, Argentina.\n",
        "*  Otros\n",
        "\n",
        "📚 Fuente confiable\n",
        "[texto del vínculo](https://richarddlb.github.io/portfolio)\n",
        "\n",
        "💪 Actualmente busco trabajo como programador Java junior\n",
        "\n",
        "🎙️ Frase de cierre\n",
        "\"la constancia vence lo que la dicha no alcanza\"\n",
        "\n",
        "\n",
        "\n",
        "\n"
      ],
      "metadata": {
        "id": "33B3h0OFw1xa"
      }
    },
    {
      "cell_type": "markdown",
      "source": [
        "# Actividad 2: Pares, impares y primeros pasos en Python\n",
        "\n",
        "Ejercicio práctico\n",
        "Insertá un nuevo bloque de código en tu notebook de Colab.\n",
        "\n",
        "Escribí un programa que:\n",
        "\n",
        "Pida al usuario que ingrese un número entero usando input().\n",
        "Convierta ese valor a entero (int()).\n",
        "Use una estructura if/else para verificar si el número es divisible por 2.\n",
        "Imprima un mensaje indicando si el número es par o impar.\n",
        "Ejecutá el bloque al menos dos veces, con un número par y uno impar.\n"
      ],
      "metadata": {
        "id": "vQwZX5tV5NW-"
      }
    },
    {
      "cell_type": "code",
      "source": [
        "nro1 = int(input(\"Por favor ingrese un número entero: \"))\n",
        "if nro1 % 2 == 0:\n",
        "  print(nro1, \"Es un número par\")\n",
        "else:\n",
        "  print(nro1, \"Es un número impar\")\n"
      ],
      "metadata": {
        "colab": {
          "base_uri": "https://localhost:8080/"
        },
        "id": "z8BiCkOq6Zi3",
        "outputId": "501ab016-bb4e-4040-ed76-2eb867510888"
      },
      "execution_count": 4,
      "outputs": [
        {
          "output_type": "stream",
          "name": "stdout",
          "text": [
            "Por favor ingrese un número entero: 5\n",
            "5 Es un número impar\n"
          ]
        }
      ]
    }
  ]
}