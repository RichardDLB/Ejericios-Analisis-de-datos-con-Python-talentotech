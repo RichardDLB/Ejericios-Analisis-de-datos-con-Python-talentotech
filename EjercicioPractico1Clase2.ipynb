{
  "nbformat": 4,
  "nbformat_minor": 0,
  "metadata": {
    "colab": {
      "provenance": [],
      "authorship_tag": "ABX9TyO7V4lfsl18JxjnP2y9x7Z8",
      "include_colab_link": true
    },
    "kernelspec": {
      "name": "python3",
      "display_name": "Python 3"
    },
    "language_info": {
      "name": "python"
    }
  },
  "cells": [
    {
      "cell_type": "markdown",
      "metadata": {
        "id": "view-in-github",
        "colab_type": "text"
      },
      "source": [
        "<a href=\"https://colab.research.google.com/github/RichardDLB/Ejericios-Analisis-de-datos-con-Python-talentotech/blob/main/EjercicioPractico1Clase2.ipynb\" target=\"_parent\"><img src=\"https://colab.research.google.com/assets/colab-badge.svg\" alt=\"Open In Colab\"/></a>"
      ]
    },
    {
      "cell_type": "markdown",
      "source": [
        "\n",
        "# Ejercicio Práctico\n",
        "\n",
        "## 1. Estructuras de Datos\n",
        "\n",
        " a. Crear una lista llamada numeros que contenga los números del 1 al 10.\n",
        "\n",
        " b. Crear una tupla llamada meses que contenga los nombres de los 12\n",
        "meses del año.\n",
        "\n",
        "c. Crear un diccionario llamado notas con el nombre de tres estudiantes\n",
        "como claves y sus respectivas notas como valores.\n",
        "\n",
        "d. Crear un conjunto llamado numeros_unicos con algunos números,\n",
        "asegurándote de que no haya duplicados.\n",
        "\n",
        " ## 2. Modificación y Acceso\n",
        "\n",
        "a. Modificar uno de los valores del diccionario notas (cambiar la nota de\n",
        "uno de los estudiantes).\n",
        "\n",
        "b. Acceder a los elementos de la lista numeros y mostrar todos los\n",
        "números pares utilizando un bucle.\n",
        "\n",
        "c. Acceder al primer mes de la tupla meses y al último mes. Mostrar\n",
        "ambos.\n",
        "\n",
        "## 3. Funciones Normales y Funciones Lambda\n",
        "\n",
        "a. Definir una función normal llamada multiplicar_por_dos que tome\n",
        "un número y lo multiplique por 2. Utilizar esta función para crear una\n",
        "nueva lista llamada dobles, que contenga los dobles de los números\n",
        "en la lista numeros.\n",
        "\n",
        "b. Definir una función lambda que haga lo mismo y utilizarla para crear\n",
        "una nueva lista llamada dobles_lambda, que contenga los dobles\n",
        "de los números en la lista numeros.\n",
        "\n",
        "## 4. Comprehensions\n",
        "\n",
        "a. Utilizar list comprehensions para crear una lista llamada cuadrados\n",
        "que contenga los cuadrados de los números en la lista numeros.\n",
        "\n",
        "b. Utilizar dict comprehensions para crear un diccionario llamado cubos\n",
        "que contenga los números de la lista numeros como claves y sus\n",
        "cubos como valores.\n",
        "\n",
        "## 5. Comparación de resultados\n",
        "a. Mostrar las listas dobles, dobles_lambda y cuadrados.\n",
        "Comparar sus resultados y argumentar cuál es el mejor método.\n",
        "\n",
        "b. Imprimir el diccionario cubos y comparar con la creación de un\n",
        "diccionario usando un método convencional."
      ],
      "metadata": {
        "id": "MqNeXzVUcCLl"
      }
    },
    {
      "cell_type": "code",
      "source": [
        "# 1. Estructuras de Datos\n",
        "#a. Crear una lista llamada numeros que contenga los números del 1 al 10.\n",
        "numeros = [1,2,3,4,5,6,7,8,9,10]\n",
        "print(\"Estó es una lista :\", numeros)\n",
        "\n",
        "#b. Crear una tupla llamada meses que contenga los nombres de los 12 meses del año.\n",
        "meses = {\"enero\", \"febrero\", \"marzo\", \"abril\", \"mayo\", \"junio\", \"julio\",\n",
        "         \"agosto\", \"septiembre\", \"octubre\", \"noviembre\", \"diciembre\"}\n",
        "print(\"Estó es una dupla :\", meses)\n",
        "\n",
        "#c. Crear un diccionario llamado notas con el nombre de tres estudiantes como claves y sus respectivas notas como valores.\n",
        "notas = {\"Pedro\": 7, \"Maria\": 8, \"Raul\": 3,}\n",
        "print(\"Estos son los estudiantes y sus notas: \",notas)\n",
        "\n",
        "#d. Crear un conjunto llamado numeros_unicos con algunos números, asegurándote de que no haya duplicados.\n",
        "numeros_unicos = {2, 5, 7, 9, 11}\n",
        "print(\"Estó es un conjunto: \",numeros_unicos)\n"
      ],
      "metadata": {
        "colab": {
          "base_uri": "https://localhost:8080/"
        },
        "id": "HQnrkk28cqCy",
        "outputId": "4eb2e96e-a45f-47cc-c74b-f9c9249b4e05"
      },
      "execution_count": 5,
      "outputs": [
        {
          "output_type": "stream",
          "name": "stdout",
          "text": [
            "Estó es una lista : [1, 2, 3, 4, 5, 6, 7, 8, 9, 10]\n",
            "Estó es una dupla : {'abril', 'agosto', 'junio', 'septiembre', 'diciembre', 'marzo', 'octubre', 'mayo', 'enero', 'febrero', 'noviembre', 'julio'}\n",
            "Estos son los estudiantes y sus notas:  {'Pedro': 7, 'Maria': 8, 'Raul': 3}\n",
            "Estó es un conjunto:  {2, 5, 7, 9, 11}\n"
          ]
        }
      ]
    },
    {
      "cell_type": "code",
      "source": [
        "#2. Modificación y Acceso\n",
        "\n",
        "#a. Modificar uno de los valores del diccionario notas (cambiar la nota de uno\n",
        "#de los estudiantes).\n",
        "notas = {\"Pedro\": 7, \"Maria\": 8, \"Raul\": 3,}\n",
        "print(\"Estos son los estudiantes y sus notas: \",notas)\n",
        "notas [\"Pedro\"] = 10\n",
        "print(\"Este es el diccionario cambiando la nota de Pedro\", notas)\n",
        "\n",
        "#b. Acceder a los elementos de la lista numeros y mostrar todos los números\n",
        "#pares utilizando un bucle.\n",
        "numeros = [1,2,3,4,5,6,7,8,9,10]\n",
        "print(\"Estó es una lista :\", numeros)\n",
        "print(\"Está es la lista de números pares de la lista números\")\n",
        "for numero in numeros:\n",
        "  if numero % 2 ==  0: #acá se verifica si el número es par\n",
        "    print(numero)\n",
        "\n",
        "#c. Acceder al primer mes de la tupla meses y al último mes. Mostrar ambos.\n",
        "meses = {\"enero\", \"febrero\", \"marzo\", \"abril\", \"mayo\", \"junio\", \"julio\",\n",
        "         \"agosto\", \"septiembre\", \"octubre\", \"noviembre\", \"diciembre\"}\n",
        "print(\"Estó es una dupla :\", meses)\n",
        "lista_meses = list(meses)\n",
        "print(\"Primer mes:\", lista_meses[8],)\n",
        "print(\"Primer mes:\", lista_meses[4],)\n"
      ],
      "metadata": {
        "colab": {
          "base_uri": "https://localhost:8080/"
        },
        "id": "-Ab3iiCc3lkf",
        "outputId": "7d822188-6b4e-4c7b-f54e-5d00c21e7e5a"
      },
      "execution_count": 31,
      "outputs": [
        {
          "output_type": "stream",
          "name": "stdout",
          "text": [
            "Estos son los estudiantes y sus notas:  {'Pedro': 7, 'Maria': 8, 'Raul': 3}\n",
            "Este es el diccionario cambiando la nota de Pedro {'Pedro': 10, 'Maria': 8, 'Raul': 3}\n",
            "Estó es una lista : [1, 2, 3, 4, 5, 6, 7, 8, 9, 10]\n",
            "Está es la lista de números pares de la lista números\n",
            "2\n",
            "4\n",
            "6\n",
            "8\n",
            "10\n",
            "Estó es una dupla : {'abril', 'agosto', 'junio', 'septiembre', 'diciembre', 'marzo', 'octubre', 'mayo', 'enero', 'febrero', 'noviembre', 'julio'}\n",
            "Primer mes: enero\n",
            "Primer mes: diciembre\n"
          ]
        }
      ]
    },
    {
      "cell_type": "code",
      "source": [
        "#3. Funciones Normales y Funciones Lambda\n",
        "\n",
        "#a. Definir una función normal llamada multiplicar_por_dos que tome\n",
        "#un número y lo multiplique por 2. Utilizar esta función para crear una\n",
        "#nueva lista llamada dobles, que contenga los dobles de los números\n",
        "#en la lista numeros.\n",
        "\n",
        "def multiplicar_por_dos(num):\n",
        "  return num * 2\n",
        "\n",
        "numeros = [1,2,3,4,5,6,7,8,9,10]\n",
        "dobles = []\n",
        "for numero in numeros:\n",
        "  dobles.append(multiplicar_por_dos(numero))\n",
        "print(\"Lista original :\", numeros)\n",
        "print(\"Lista con los números dobles: \", dobles)\n",
        "\n",
        "\n",
        "#b. Definir una función lambda que haga lo mismo y utilizarla para crear\n",
        "#una nueva lista llamada dobles_lambda, que contenga los dobles\n",
        "#de los números en la lista numeros.\n",
        "\n",
        "multiplicar_por_dos_lambda = lambda num: num * 2\n",
        "dobles_lambda = []\n",
        "for numero in numeros:\n",
        "  dobles_lambda.append(multiplicar_por_dos_lambda(numero))\n",
        "print(\"Lista original :\", numeros)\n",
        "print(\"Lista con los números dobles lambda: \", dobles_lambda)\n"
      ],
      "metadata": {
        "colab": {
          "base_uri": "https://localhost:8080/"
        },
        "id": "PXf2qs988Kwk",
        "outputId": "325b5d94-c307-440a-f4c9-118aac343c28"
      },
      "execution_count": 37,
      "outputs": [
        {
          "output_type": "stream",
          "name": "stdout",
          "text": [
            "Lista original : [1, 2, 3, 4, 5, 6, 7, 8, 9, 10]\n",
            "Lista con los números dobles:  [2, 4, 6, 8, 10, 12, 14, 16, 18, 20]\n",
            "Lista original : [1, 2, 3, 4, 5, 6, 7, 8, 9, 10]\n",
            "Lista con los números dobles lambda:  [2, 4, 6, 8, 10, 12, 14, 16, 18, 20]\n"
          ]
        }
      ]
    },
    {
      "cell_type": "code",
      "source": [
        "#4. Comprehensions\n",
        "#a. Utilizar list comprehensions para crear una lista llamada cuadrados\n",
        "#que contenga los cuadrados de los números en la lista numeros.\n",
        "numeros = [1,2,3,4,5,6,7,8,9,10]\n",
        "print(\"Estó es una lista :\", numeros)\n",
        "cuadrados = [numero**2 for numero in numeros]\n",
        "print(cuadrados)\n",
        "\n",
        "#b. Utilizar dict comprehensions para crear un diccionario llamado cubos\n",
        "#que contenga los números de la lista numeros como claves y sus cubos como valores.\n",
        "numeros = [1,2,3,4,5,6,7,8,9,10]\n",
        "print(\"Estó es una lista :\", numeros)\n",
        "cubos = {numero**3 for numero in numeros}\n",
        "print(cubos)"
      ],
      "metadata": {
        "colab": {
          "base_uri": "https://localhost:8080/"
        },
        "id": "8d3IsJkYEHGr",
        "outputId": "149f505b-fb27-4575-ceef-44e0e0a806e6"
      },
      "execution_count": 39,
      "outputs": [
        {
          "output_type": "stream",
          "name": "stdout",
          "text": [
            "Estó es una lista : [1, 2, 3, 4, 5, 6, 7, 8, 9, 10]\n",
            "[1, 4, 9, 16, 25, 36, 49, 64, 81, 100]\n"
          ]
        }
      ]
    },
    {
      "cell_type": "code",
      "source": [
        "#5. Comparación de resultados\n",
        "\n",
        "#a. Mostrar las listas dobles, dobles_lambda y cuadrados. Comparar\n",
        "#sus resultados y argumentar cuál es el mejor método.\n",
        "\n",
        "def multiplicar_por_dos(num):\n",
        "  return num * 2\n",
        "\n",
        "multiplicar_por_dos_lambda = lambda num: num * 2\n",
        "\n",
        "numeros = [1,2,3,4,5,6,7,8,9,10]\n",
        "\n",
        "dobles = [multiplicar_por_dos(numero) for numero in numeros]\n",
        "dobles_lambda = [multiplicar_por_dos_lambda(numero) for numero in numeros]\n",
        "cuadrados = [numero ** 2 for numero in numeros]\n",
        "\n",
        "print(dobles)\n",
        "print(dobles_lambda)\n",
        "print(cuadrados)\n",
        "\n",
        "# La lista dobles y dobles_lambda son iguales, pero usando la función lambda\n",
        "# se utilizan menos lineas de código.\n",
        "\n",
        "#b. Imprimir el diccionario Dict Comprehension cubos y comparar con la creación\n",
        "#de un diccionario usando un método convencional.\n",
        "\n",
        "# diccionario Dict Comprehension\n",
        "cubos = {numero**3 for numero in numeros}\n",
        "print(cubos)\n",
        "\n",
        "# método convencional\n",
        "#c. Crear un diccionario llamado notas con el nombre de tres estudiantes como claves y sus respectivas notas como valores.\n",
        "notas = {\"Pedro\": 7, \"Maria\": 8, \"Raul\": 3,}\n",
        "print(\"Estos son los estudiantes y sus notas: \",notas)\n",
        "\n",
        "# el dicionario convencional y el Dict Comprehension son iguales, pero usando Dict Comprehension\n",
        "# se utilizan menos lineas de código.\n",
        "\n"
      ],
      "metadata": {
        "colab": {
          "base_uri": "https://localhost:8080/"
        },
        "id": "oWVX4h6THwMe",
        "outputId": "e0e2d13d-2129-4d53-93f7-3dd6923820b6"
      },
      "execution_count": 42,
      "outputs": [
        {
          "output_type": "stream",
          "name": "stdout",
          "text": [
            "[2, 4, 6, 8, 10, 12, 14, 16, 18, 20]\n",
            "[2, 4, 6, 8, 10, 12, 14, 16, 18, 20]\n",
            "[1, 4, 9, 16, 25, 36, 49, 64, 81, 100]\n",
            "{64, 1, 512, 8, 1000, 343, 216, 729, 27, 125}\n",
            "Estos son los estudiantes y sus notas:  {'Pedro': 7, 'Maria': 8, 'Raul': 3}\n"
          ]
        }
      ]
    }
  ]
}