{
  "nbformat": 4,
  "nbformat_minor": 0,
  "metadata": {
    "colab": {
      "provenance": [],
      "authorship_tag": "ABX9TyOselT4Kp9u6s4SgrXv7XvZ",
      "include_colab_link": true
    },
    "kernelspec": {
      "name": "python3",
      "display_name": "Python 3"
    },
    "language_info": {
      "name": "python"
    }
  },
  "cells": [
    {
      "cell_type": "markdown",
      "metadata": {
        "id": "view-in-github",
        "colab_type": "text"
      },
      "source": [
        "<a href=\"https://colab.research.google.com/github/RichardDLB/Ejericios-Analisis-de-datos-con-Python-talentotech/blob/main/EjercicioPractico1Clase3.ipynb\" target=\"_parent\"><img src=\"https://colab.research.google.com/assets/colab-badge.svg\" alt=\"Open In Colab\"/></a>"
      ]
    },
    {
      "cell_type": "code",
      "source": [
        "# 1. Parámetros Posicionales: Crear una función llamada multiplicar que\n",
        "# reciba dos números y devuelva su producto. Probar la función con diferentes\n",
        "# pares de números\n",
        "\n",
        "def multiplicar (num1, num2):\n",
        "  return num1 * num2\n",
        "\n",
        "#multiplicar(3,2)\n",
        "#multiplicar(5,7)\n",
        "#multiplicar(9,18)"
      ],
      "metadata": {
        "id": "EcP9AKB5lSIb"
      },
      "execution_count": null,
      "outputs": []
    },
    {
      "cell_type": "code",
      "source": [
        "# 2. Parámetros por Defecto: Crear una función llamada bienvenida que\n",
        "# reciba un nombre y un mensaje de bienvenida. El mensaje debe tener un\n",
        "# valor por defecto de \"¡Bienvenido!\". Si no se proporciona un mensaje, la\n",
        "# función debe usar el valor por defecto. Probar la función proporcionando solo\n",
        "# el nombre y con el mensaje\n",
        "\n",
        "def bienvenida(nombre, mensaje=\"¡Bienvenido!\"):\n",
        "    return f\"{nombre} {mensaje}\"\n",
        "\n",
        "print(bienvenida(\"Pedro\"))\n",
        "print(bienvenida(\"Carlos\", \"¡Hola! Espero que tengas un gran día\"))\n"
      ],
      "metadata": {
        "id": "xLTnf3xcmXG7",
        "colab": {
          "base_uri": "https://localhost:8080/"
        },
        "outputId": "9e58336d-7710-4475-9e3a-0f4535e97e20"
      },
      "execution_count": 1,
      "outputs": [
        {
          "output_type": "stream",
          "name": "stdout",
          "text": [
            "Pedro ¡Bienvenido!\n",
            "Carlos ¡Hola! Espero que tengas un gran día\n"
          ]
        }
      ]
    },
    {
      "cell_type": "code",
      "source": [
        "# 3. Parámetros Indefinidos (*args): Crear una función llamada\n",
        "# calcular_promedio que acepte un número variable de notas\n",
        "# (posicionales) y devuelva el promedio de esas notas. Probar la función con\n",
        "# diferentes cantidades de notas.\n",
        "\n",
        "def calcular_promedio(*args):\n",
        "  return sum(args) / len(args)\n",
        "print(calcular_promedio(1, 2, 3))\n",
        "print(calcular_promedio(10, 20, 30))\n",
        "print(calcular_promedio(10, 20, 30, 40))"
      ],
      "metadata": {
        "colab": {
          "base_uri": "https://localhost:8080/"
        },
        "id": "g3SWFnngaKjv",
        "outputId": "62d712f9-460f-4f3c-ab15-feca337b3bb5"
      },
      "execution_count": 14,
      "outputs": [
        {
          "output_type": "stream",
          "name": "stdout",
          "text": [
            "2.0\n",
            "20.0\n",
            "25.0\n"
          ]
        }
      ]
    },
    {
      "cell_type": "code",
      "source": [
        "# 4. Parámetros de Palabras Clave Indefinidas (**kwargs): Crear una\n",
        "# función llamada concatena_info que reciba un nombre y un número\n",
        "# indefinido de palabras clave (por ejemplo, edad, ciudad, ocupación) y\n",
        "# devuelva un string que combine todos los datos. Probar la función pasando\n",
        "# varios pares de clave-valor.\n",
        "\n",
        "def concatena_info(nombre, **kwargs):\n",
        "  info = f\"Nombre: {nombre}\\n\" # <-- string formateado f.\n",
        "  for clave, valor in kwargs.items(): # Itera sobre todos los pares clave-valor en kwargs.\n",
        "    info += f\"{clave}: {valor}\\n\" # Para cada par clave-valor, agrega una línea al string info, \\n agrega un salto de línea al final.\n",
        "  return info # Devuelve el string info completo con toda la información concatenada\n",
        "print(concatena_info(\"Alice\",edad=30,ciudad=\"Madrid\",\n",
        "ocupacion=\"Ingeniera\"))\n",
        "\n",
        "print(concatena_info(\"Pedro\",edad=37,ciudad=\"Córdoba\",\n",
        "ocupacion=\"Análisis de Datos\"))\n",
        "\n"
      ],
      "metadata": {
        "colab": {
          "base_uri": "https://localhost:8080/"
        },
        "id": "HRXeSbTZdkdb",
        "outputId": "42ccaaab-0a18-4ca6-f65a-8e7977cb56d0"
      },
      "execution_count": 16,
      "outputs": [
        {
          "output_type": "stream",
          "name": "stdout",
          "text": [
            "Nombre: Alice\n",
            "edad: 30\n",
            "ciudad: Madrid\n",
            "ocupacion: Ingeniera\n",
            "\n",
            "Nombre: Pedro\n",
            "edad: 37\n",
            "ciudad: Córdoba\n",
            "ocupacion: Análisis de Datos\n",
            "\n"
          ]
        }
      ]
    }
  ]
}